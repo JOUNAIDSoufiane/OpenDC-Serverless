{
 "cells": [
  {
   "attachments": {
    "OpenDC%20Serverless%20logo%20full.png": {
     "image/png": "[encoded data removed]"
    }
   },
   "cell_type": "markdown",
   "metadata": {},
   "source": [
    "![OpenDC%20Serverless%20logo%20full.png](attachment:OpenDC%20Serverless%20logo%20full.png)\n",
    "# OpenDC Serverless: FaaS Trace Synthesizer\n",
    "This Notebook presents a general approach for generating synthetic traces for the OpenDC Serverless simulator (unused in the paper)\n",
    "\n",
    "This work accompanies the OpenDC Serverless bachelors thesis paper by Soufiane Jounaid within @Large Research\n",
    "\n",
    "Vrije Universiteit Amsterdam 2020."
   ]
  },
  {
   "cell_type": "code",
   "execution_count": 1,
   "metadata": {},
   "outputs": [],
   "source": [
    "import pandas as pd\n",
    "import numpy as np\n",
    "from math import sqrt\n",
    "from scipy import stats \n",
    "from scipy.interpolate import interp1d\n",
    "from enum import Enum, auto\n",
    "from matplotlib import pyplot as plt\n",
    "from statsmodels.distributions.empirical_distribution import ECDF"
   ]
  },
  {
   "cell_type": "markdown",
   "metadata": {},
   "source": [
    "## Pattern enumerations"
   ]
  },
  {
   "cell_type": "code",
   "execution_count": null,
   "metadata": {},
   "outputs": [],
   "source": [
    "class Invocation_pattern(Enum):\n",
    "    UNIFORM = auto()\n",
    "    HOTNCOLD = auto()\n",
    "\n",
    "class Executiontime_pattern(Enum):\n",
    "    UNIFORM = auto()\n",
    "    HOTNCOLD = auto()\n",
    "\n",
    "class Cpuusage_pattern(Enum):\n",
    "    UNIFORM = auto()\n",
    "    HOTNCOLD = auto()\n",
    "    \n",
    "class Memoryusage_pattern(Enum):\n",
    "    UNIFORM = auto()\n",
    "    HOTNCOLD = auto()\n",
    "    "
   ]
  },
  {
   "cell_type": "markdown",
   "metadata": {},
   "source": [
    "## Statistical utility"
   ]
  },
  {
   "cell_type": "code",
   "execution_count": null,
   "metadata": {},
   "outputs": [],
   "source": [
    "def uniform_sample(high, low, size):\n",
    "    return np.random.randint(low,high,size)\n",
    "\n",
    "def empirical_sample(size, ecdf):\n",
    "    inv_cdf = interp1d(ecdf.y, ecdf.x, bounds_error = False, assume_sorted=True)\n",
    "    r = np.random.uniform(0, 1, size)\n",
    "    return inv_cdf(r)\n",
    "    \n",
    "def bimodal_ecdf(loc1,loc2,scale1,scale2,size1,size2):\n",
    "    sample1 = np.random.normal(loc=loc1, scale=scale1, size=size1)\n",
    "    sample2 = np.random.normal(loc=loc2, scale=scale2, size=size2)\n",
    "    bimodal_sample = np.hstack((sample1, sample2))\n",
    "    return ECDF(bimodal_sample)\n"
   ]
  },
  {
   "cell_type": "markdown",
   "metadata": {},
   "source": [
    "## Pipeline\n"
   ]
  },
  {
   "cell_type": "markdown",
   "metadata": {},
   "source": [
    "### Setting timestamps"
   ]
  },
  {
   "cell_type": "code",
   "execution_count": null,
   "metadata": {},
   "outputs": [],
   "source": [
    "def set_timestamps(dataframe, duration, interval):\n",
    "    nr_entries = round(duration / interval)\n",
    "    time_increment = 0\n",
    "    for i in range(nr_entries):\n",
    "        time_increment += interval\n",
    "        new_row = {'Timestamp [ms]':time_increment,\n",
    "                   'Invocations':0,\n",
    "                   'Exec_time':0,\n",
    "                   'Provisioned_cpu':0,'Provisioned_memory':0,\n",
    "                   'Avg_cpu':0,\n",
    "                   'Avg_mem':0}\n",
    "        dataframe = dataframe.append(new_row, ignore_index=True)\n",
    "    return dataframe\n",
    "\n"
   ]
  },
  {
   "cell_type": "markdown",
   "metadata": {},
   "source": [
    "### Generating invocations\n"
   ]
  },
  {
   "cell_type": "code",
   "execution_count": null,
   "metadata": {},
   "outputs": [],
   "source": [
    "def set_invocations(dataframe, pattern):\n",
    "    high = int(input(\"please input the highest number concurrent invocations:\"))\n",
    "    low = int(input(\"please input the lowest number concurrent invocations:\"))\n",
    "    size = len(dataframe.index)\n",
    "    \n",
    "    positive = lambda t: sqrt(t ** 2)\n",
    "    limit = lambda t: high if t > high else t\n",
    "    \n",
    "    if (pattern == Invocation_pattern.UNIFORM):\n",
    "        sample_invocs = uniform_sample(high, low, size)\n",
    "        return dataframe.assign(Invocations=sample_invocs)\n",
    "    \n",
    "    elif (pattern == Invocation_pattern.HOTNCOLD):\n",
    "        sd = int(input(\"please input the standard deviation:\"))\n",
    "        high_size = int(float(input(\"please input the proportion of high concurrency\")) * (size * 1000))\n",
    "        low_size = size*1000 - high_size\n",
    "        ecdf = bimodal_ecdf(low,high,sd,sd,low_size,high_size)\n",
    "        sample_invocs = empirical_sample(size, ecdf)\n",
    "        return dataframe.assign(Invocations=np.array([positive(limit(invoc)) for invoc in sample_invocs]).astype(np.int))"
   ]
  },
  {
   "cell_type": "markdown",
   "metadata": {},
   "source": [
    "### Generating Execution time"
   ]
  },
  {
   "cell_type": "code",
   "execution_count": null,
   "metadata": {},
   "outputs": [],
   "source": [
    "def set_exectimes(dataframe, pattern):\n",
    "    high = int(input(\"please input the highest exec time:\"))\n",
    "    low = int(input(\"please input the lowest exec time:\"))\n",
    "    size = len(dataframe.index)\n",
    "    \n",
    "    positive = lambda t: sqrt(t ** 2)\n",
    "    limit = lambda t: high if t > high else t\n",
    "    \n",
    "    if (pattern == Executiontime_pattern.UNIFORM):\n",
    "        sample_times = uniform_sample(high, low, size)\n",
    "        return dataframe.assign(Exec_time=sample_times)\n",
    "    \n",
    "    elif (pattern == Executiontime_pattern.HOTNCOLD):\n",
    "        sd = int(input(\"please input the standard deviation:\"))\n",
    "        high_size = int(float(input(\"please input the proportion of high exec times:\")) * (size * 1000))\n",
    "        low_size = size*1000 - high_size\n",
    "        ecdf = bimodal_ecdf(low,high,sd,sd,low_size,high_size)\n",
    "        sample_times = empirical_sample(size, ecdf)\n",
    "        return dataframe.assign(Exec_time=np.array([positive(limit(time)) for time in sample_times]).astype(np.int))"
   ]
  },
  {
   "cell_type": "markdown",
   "metadata": {},
   "source": [
    "### Setting provisioning values"
   ]
  },
  {
   "cell_type": "code",
   "execution_count": null,
   "metadata": {},
   "outputs": [],
   "source": [
    "def set_provisioning(dataframe, prov_cpu, prov_mem):\n",
    "    dataframe = dataframe.assign(Provisioned_cpu=prov_cpu)\n",
    "    return dataframe.assign(Provisioned_memory=prov_mem)"
   ]
  },
  {
   "cell_type": "markdown",
   "metadata": {},
   "source": [
    "### Generating Allocated cpu"
   ]
  },
  {
   "cell_type": "code",
   "execution_count": null,
   "metadata": {},
   "outputs": [],
   "source": [
    "def set_cpuusage(dataframe, pattern):\n",
    "    high = float(input(\"please input the highest cpu usage in Mhz:\"))\n",
    "    low = float(input(\"please input the lowest cpu usage in Mhz:\"))\n",
    "    size = len(dataframe.index)\n",
    "    \n",
    "    positive = lambda t: sqrt(t ** 2)\n",
    "    limit = lambda t: high if t > high else t\n",
    "    \n",
    "    if (pattern == Cpuusage_pattern.UNIFORM):\n",
    "        sample_cpu = uniform_sample(high, low, size)\n",
    "        return dataframe.assign(Avg_cpu=sample_cpu)\n",
    "    \n",
    "    elif (pattern == Cpuusage_pattern.HOTNCOLD):\n",
    "        sd = float(input(\"please input the standard deviation:\"))\n",
    "        high_size = int(float(input(\"please input the proportion of high cpu usage:\")) * (size * 1000))\n",
    "        low_size = size*1000 - high_size\n",
    "        ecdf = bimodal_ecdf(low,high,sd,sd,low_size,high_size)\n",
    "        sample_cpu = empirical_sample(size, ecdf)\n",
    "        return dataframe.assign(Avg_cpu=np.array([positive(limit(cpu)) for cpu in sample_cpu]).astype(np.float64))"
   ]
  },
  {
   "cell_type": "markdown",
   "metadata": {},
   "source": [
    "### Generating Allocated memory"
   ]
  },
  {
   "cell_type": "code",
   "execution_count": null,
   "metadata": {},
   "outputs": [],
   "source": [
    "def set_memusage(dataframe, pattern):\n",
    "    high = float(input(\"please input the highest memory usage in mb:\"))\n",
    "    low = float(input(\"please input the lowest memory usage in mb:\"))\n",
    "    size = len(dataframe.index)\n",
    "    \n",
    "    positive = lambda t: sqrt(t ** 2)\n",
    "    limit = lambda t: high if t > high else t\n",
    "    \n",
    "    if (pattern == Memoryusage_pattern.UNIFORM):\n",
    "        sample_mem = uniform_sample(high, low, size)\n",
    "        return dataframe.assign(Avg_mem=sample_mem)\n",
    "    \n",
    "    elif (pattern == Memoryusage_pattern.HOTNCOLD):\n",
    "        sd = float(input(\"please input the standard deviation:\"))\n",
    "        high_size = int(float(input(\"please input the proportion of high memory usage:\")) * (size * 1000))\n",
    "        low_size = size*1000 - high_size\n",
    "        ecdf = bimodal_ecdf(low,high,sd,sd,low_size,high_size)\n",
    "        sample_mem = empirical_sample(size, ecdf)\n",
    "        return dataframe.assign(Avg_mem=np.array([positive(limit(mem)) for mem in sample_mem]).astype(np.float64))"
   ]
  },
  {
   "cell_type": "markdown",
   "metadata": {},
   "source": [
    "## Initial input handling"
   ]
  },
  {
   "cell_type": "code",
   "execution_count": null,
   "metadata": {},
   "outputs": [],
   "source": [
    "\n",
    "try:\n",
    "    seed = int(input(\"Seed:\"))\n",
    "    nr_functions = int(input(\"Number of functions:\"))\n",
    "    trace_duration = int(input(\"Duration of the trace in ms\"))\n",
    "    time_interval = int(input(\"Time interval between trace entries in ms:\"))\n",
    "    np.random.seed(seed)\n",
    "    invoc_patterns = []\n",
    "    exectime_patterns = [] \n",
    "    cpuusage_patterns = [] \n",
    "    memusage_patterns = []\n",
    "    provisioned_cpu = []\n",
    "    provisioned_mem = []\n",
    "    for i in range(nr_functions):\n",
    "        provisioned_cpu.append(int(input(\"Provisioned cpu for function {0} :\".format(i+1))))\n",
    "        provisioned_mem.append(int(input(\"Provisioned memory for function {0} :\".format(i+1))))\n",
    "        invoc_patterns.append(Invocation_pattern(int(input(\"choose invocation pattern for function {0} :\".format(i+1)))))\n",
    "        exectime_patterns.append(Executiontime_pattern(int(input(\"choose exec time pattern for function {0} :\".format(i+1)))))\n",
    "        cpuusage_patterns.append(Cpuusage_pattern(int(input(\"choose cpu usage pattern for function {0} :\".format(i+1)))))\n",
    "        memusage_patterns.append(Memoryusage_pattern(int(input(\"choose mem usage pattern for function {0} :\".format(i+1)))))\n",
    "except ValueError:\n",
    "    print(\"Invalid input type\")\n",
    "    \n",
    "\n",
    "    "
   ]
  },
  {
   "cell_type": "markdown",
   "metadata": {},
   "source": [
    "## Dataframe Initialization"
   ]
  },
  {
   "cell_type": "code",
   "execution_count": null,
   "metadata": {},
   "outputs": [],
   "source": [
    "dataframe_list = []\n",
    "trace_template = {'Timestamp [ms]':[],\n",
    "                  'Invocations':[],\n",
    "                  'Exec_time':[],\n",
    "                  'Provisioned_cpu':[],'Provisioned_memory':[],\n",
    "                  'Avg_cpu':[],\n",
    "                  'Avg_mem':[]}\n",
    "trace_dtypes = {'Timestamp [ms]':int,\n",
    "                  'Invocations':int,\n",
    "                  'Exec_time':int,\n",
    "                  'Provisioned_cpu':int,'Provisioned_memory':int,\n",
    "                  'Avg_cpu':float,\n",
    "                  'Avg_mem':float}\n",
    "\n",
    "for i in range(nr_functions):\n",
    "    dataframe_list.append(pd.DataFrame(data=trace_template).astype(trace_dtypes))\n"
   ]
  },
  {
   "cell_type": "markdown",
   "metadata": {},
   "source": [
    "## Processing"
   ]
  },
  {
   "cell_type": "code",
   "execution_count": null,
   "metadata": {},
   "outputs": [],
   "source": [
    "for index, dataframe in enumerate(dataframe_list, start=0):\n",
    "    print(\"\\nfunction {0}\\n\".format(index+1))\n",
    "    dataframe = set_timestamps(dataframe, trace_duration, time_interval)\n",
    "    dataframe = set_provisioning(dataframe, provisioned_cpu[index], provisioned_mem[index])\n",
    "    dataframe = set_invocations(dataframe, invoc_patterns[index])\n",
    "    dataframe = set_exectimes(dataframe, exectime_patterns[index])\n",
    "    dataframe = set_cpuusage(dataframe, cpuusage_patterns[index])\n",
    "    dataframe = set_memusage(dataframe, memusage_patterns[index])\n",
    "    dataframe = dataframe.rename(columns={'Exec_time':' Avg Exec time per Invocation',\n",
    "                                          'Provisioned_cpu':'Provisioned CPU [Mhz]',\n",
    "                                          'Provisioned_memory':'Provisioned Memory [mb]',\n",
    "                                          'Avg_cpu':' Avg cpu usage per Invocation [Mhz]',\n",
    "                                          'Avg_mem':' Avg mem usage per Invocation [mb]'})\n",
    "    dataframe.to_csv(r'{0}.csv'.format(index+1),index=False)"
   ]
  }
 ],
 "metadata": {
  "kernelspec": {
   "display_name": "Python 3",
   "language": "python",
   "name": "python3"
  },
  "language_info": {
   "codemirror_mode": {
    "name": "ipython",
    "version": 3
   },
   "file_extension": ".py",
   "mimetype": "text/x-python",
   "name": "python",
   "nbconvert_exporter": "python",
   "pygments_lexer": "ipython3",
   "version": "3.7.5"
  }
 },
 "nbformat": 4,
 "nbformat_minor": 4
}
